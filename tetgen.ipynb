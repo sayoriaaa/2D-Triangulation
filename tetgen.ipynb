{
 "cells": [
  {
   "cell_type": "markdown",
   "metadata": {},
   "source": [
    "首先我们使用tetgen来测试一下三角形到四面体的转换"
   ]
  },
  {
   "cell_type": "code",
   "execution_count": 1,
   "metadata": {},
   "outputs": [],
   "source": [
    "import pyvista as pv\n",
    "import tetgen\n",
    "import numpy as np\n",
    "import openmesh as om\n",
    "from openmesh import TriMesh\n",
    "from pyvista import PolyData\n"
   ]
  },
  {
   "cell_type": "code",
   "execution_count": null,
   "metadata": {},
   "outputs": [],
   "source": [
    "sphere = pv.Sphere()\n",
    "tet = tetgen.TetGen(sphere)\n",
    "tet.tetrahedralize(order=1, mindihedral=20, minratio=1.5)\n",
    "grid = tet.grid\n",
    "\n",
    "# get cell centroids\n",
    "cells = grid.cells.reshape(-1, 5)[:, 1:]\n",
    "cell_center = grid.points[cells].mean(1)\n",
    "\n",
    "# extract cells below the 0 xy plane\n",
    "mask = cell_center[:, 2] < 0\n",
    "cell_ind = mask.nonzero()[0]\n",
    "subgrid = grid.extract_cells(cell_ind)\n",
    "\n",
    "# advanced plotting\n",
    "plotter = pv.Plotter()\n",
    "plotter.add_mesh(subgrid, 'lightgrey', lighting=True, show_edges=True)\n",
    "plotter.add_mesh(sphere, 'r', 'wireframe')\n",
    "plotter.add_legend([[' Input Mesh ', 'r'],\n",
    "                    [' Tessellated Mesh ', 'black']])\n",
    "plotter.show()"
   ]
  },
  {
   "cell_type": "code",
   "execution_count": 6,
   "metadata": {},
   "outputs": [],
   "source": [
    "class Mesh:\n",
    "    def __init__(self, model_path='./models/255.obj'):\n",
    "        self.mesh:TriMesh = om.read_trimesh(model_path)\n",
    "    \n",
    "    def update_v_f(self):\n",
    "        v = [self.mesh.point(vertex).tolist() for vertex in self.mesh.vertices()]\n",
    "        f = [[vh.idx() for vh in self.mesh.fv(face)] for face in self.mesh.faces()]\n",
    "        self.f, self.v = f, v\n",
    "    \n",
    "    def pv_mesh(self) -> PolyData:\n",
    "        self.update_v_f()\n",
    "        '''\n",
    "        https://docs.pyvista.org/version/stable/examples/00-load/create-poly.html#ref-create-poly\n",
    "        '''\n",
    "        vertices = np.array(self.v)\n",
    "        constant = np.full((len(self.f), 1), len(self.f[0])) # assuming all faces have same vertex num \n",
    "        faces = np.hstack((constant, self.f))\n",
    "        faces = np.hstack(faces) # notice faces is 1-D array\n",
    "        pyvista_mesh = pv.PolyData(vertices, faces)\n",
    "        return pyvista_mesh\n",
    "\n",
    "def test():\n",
    "    pv.set_plot_theme('document')\n",
    "\n",
    "    sphere = pv.Sphere()\n",
    "    tet = tetgen.TetGen(sphere)\n",
    "    tet.tetrahedralize(order=1, mindihedral=20, minratio=1.5)\n",
    "    grid = tet.grid\n",
    "    grid.plot(show_edges=True)\n",
    "\n",
    "def test2():\n",
    "    pv.set_plot_theme('document')\n",
    "\n",
    "    a = Mesh(model_path='./models/Gargoyle_ABF.obj')\n",
    "    b = a.pv_mesh()\n",
    "    tet = tetgen.TetGen(b)\n",
    "    tet.tetrahedralize(order=1, mindihedral=20, minratio=1.5)\n",
    "    grid = tet.grid\n",
    "    # grid.plot(show_edges=True)\n",
    "\n",
    "    # get cell centroids\n",
    "    cells = grid.cells.reshape(-1, 5)[:, 1:]\n",
    "    cell_center = grid.points[cells].mean(1)\n",
    "\n",
    "    # extract cells below the 0 xy plane\n",
    "    mask = cell_center[:, 2] > 0\n",
    "    cell_ind = mask.nonzero()[0]\n",
    "    subgrid = grid.extract_cells(cell_ind)\n",
    "\n",
    "    # advanced plotting\n",
    "    plotter = pv.Plotter()\n",
    "    plotter.add_mesh(subgrid, 'lightgrey', lighting=True, show_edges=True)\n",
    "    plotter.add_mesh(b, 'r', 'wireframe')\n",
    "    plotter.add_legend([[' Input Mesh ', 'r'],\n",
    "                        [' Tessellated Mesh ', 'black']])\n",
    "    plotter.show()\n",
    "\n",
    "\n",
    "    \n",
    "    \n",
    "\n",
    "\n"
   ]
  },
  {
   "cell_type": "code",
   "execution_count": 7,
   "metadata": {},
   "outputs": [
    {
     "data": {
      "application/vnd.jupyter.widget-view+json": {
       "model_id": "aa57a55e767942cebe149b59d1ab7381",
       "version_major": 2,
       "version_minor": 0
      },
      "text/plain": [
       "Widget(value=\"<iframe src='http://localhost:62975/index.html?ui=P_0x165371bd2b0_1&reconnect=auto' style='width…"
      ]
     },
     "metadata": {},
     "output_type": "display_data"
    }
   ],
   "source": [
    "#test()\n",
    "test2()\n",
    "\n"
   ]
  }
 ],
 "metadata": {
  "interpreter": {
   "hash": "4a94d45fd73e331467fcdef72e5c9dea6a6b12c33de197476f6c447b31351873"
  },
  "kernelspec": {
   "display_name": "Python 3.8.16 ('gp')",
   "language": "python",
   "name": "python3"
  },
  "language_info": {
   "codemirror_mode": {
    "name": "ipython",
    "version": 3
   },
   "file_extension": ".py",
   "mimetype": "text/x-python",
   "name": "python",
   "nbconvert_exporter": "python",
   "pygments_lexer": "ipython3",
   "version": "3.8.16"
  },
  "orig_nbformat": 4
 },
 "nbformat": 4,
 "nbformat_minor": 2
}
